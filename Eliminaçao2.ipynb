{
 "cells": [
  {
   "cell_type": "code",
   "execution_count": 4,
   "metadata": {},
   "outputs": [],
   "source": [
    "import warnings\n",
    "warnings.filterwarnings('ignore')\n",
    "import pandas as pd\n",
    "import numpy as np \n",
    "import matplotlib.pyplot as plt \n",
    "import seaborn as sns \n",
    "from sklearn.cross_validation import train_test_split\n",
    "from sklearn.feature_selection import SelectKBest\n",
    "from sklearn.feature_selection import f_classif\n",
    "from sklearn.feature_selection import RFE\n",
    "from sklearn.ensemble import ExtraTreesClassifier\n",
    "from outliers import smirnov_grubbs as grubbs"
   ]
  },
  {
   "cell_type": "code",
   "execution_count": 5,
   "metadata": {},
   "outputs": [
    {
     "data": {
      "text/html": [
       "<div>\n",
       "<style>\n",
       "    .dataframe thead tr:only-child th {\n",
       "        text-align: right;\n",
       "    }\n",
       "\n",
       "    .dataframe thead th {\n",
       "        text-align: left;\n",
       "    }\n",
       "\n",
       "    .dataframe tbody tr th {\n",
       "        vertical-align: top;\n",
       "    }\n",
       "</style>\n",
       "<table border=\"1\" class=\"dataframe\">\n",
       "  <thead>\n",
       "    <tr style=\"text-align: right;\">\n",
       "      <th></th>\n",
       "      <th>id</th>\n",
       "      <th>Age</th>\n",
       "      <th>BMI</th>\n",
       "      <th>Glucose</th>\n",
       "      <th>Insulin</th>\n",
       "      <th>HOMA</th>\n",
       "      <th>Leptin</th>\n",
       "      <th>Adiponectin</th>\n",
       "      <th>Resistin</th>\n",
       "      <th>MCP.1</th>\n",
       "      <th>Classification</th>\n",
       "    </tr>\n",
       "  </thead>\n",
       "  <tbody>\n",
       "    <tr>\n",
       "      <th>0</th>\n",
       "      <td>114</td>\n",
       "      <td>47</td>\n",
       "      <td>22.0300</td>\n",
       "      <td>84</td>\n",
       "      <td>2.869</td>\n",
       "      <td>0.5900</td>\n",
       "      <td>26.6500</td>\n",
       "      <td>38.0400</td>\n",
       "      <td>3.3200</td>\n",
       "      <td>191.720</td>\n",
       "      <td>1</td>\n",
       "    </tr>\n",
       "    <tr>\n",
       "      <th>1</th>\n",
       "      <td>104</td>\n",
       "      <td>75</td>\n",
       "      <td>30.4800</td>\n",
       "      <td>152</td>\n",
       "      <td>7.010</td>\n",
       "      <td>2.6283</td>\n",
       "      <td>50.5300</td>\n",
       "      <td>10.0600</td>\n",
       "      <td>11.7300</td>\n",
       "      <td>99.450</td>\n",
       "      <td>2</td>\n",
       "    </tr>\n",
       "    <tr>\n",
       "      <th>2</th>\n",
       "      <td>90</td>\n",
       "      <td>25</td>\n",
       "      <td>22.8600</td>\n",
       "      <td>82</td>\n",
       "      <td>4.090</td>\n",
       "      <td>0.8273</td>\n",
       "      <td>20.4500</td>\n",
       "      <td>23.6700</td>\n",
       "      <td>5.1400</td>\n",
       "      <td>313.730</td>\n",
       "      <td>1</td>\n",
       "    </tr>\n",
       "    <tr>\n",
       "      <th>3</th>\n",
       "      <td>8</td>\n",
       "      <td>54</td>\n",
       "      <td>24.2188</td>\n",
       "      <td>86</td>\n",
       "      <td>3.730</td>\n",
       "      <td>0.7913</td>\n",
       "      <td>8.6874</td>\n",
       "      <td>3.7052</td>\n",
       "      <td>10.3446</td>\n",
       "      <td>635.049</td>\n",
       "      <td>2</td>\n",
       "    </tr>\n",
       "    <tr>\n",
       "      <th>4</th>\n",
       "      <td>9</td>\n",
       "      <td>69</td>\n",
       "      <td>35.0927</td>\n",
       "      <td>101</td>\n",
       "      <td>5.646</td>\n",
       "      <td>1.4066</td>\n",
       "      <td>83.4821</td>\n",
       "      <td>6.7970</td>\n",
       "      <td>82.1000</td>\n",
       "      <td>263.499</td>\n",
       "      <td>1</td>\n",
       "    </tr>\n",
       "  </tbody>\n",
       "</table>\n",
       "</div>"
      ],
      "text/plain": [
       "    id  Age      BMI  Glucose  Insulin    HOMA   Leptin  Adiponectin  \\\n",
       "0  114   47  22.0300       84    2.869  0.5900  26.6500      38.0400   \n",
       "1  104   75  30.4800      152    7.010  2.6283  50.5300      10.0600   \n",
       "2   90   25  22.8600       82    4.090  0.8273  20.4500      23.6700   \n",
       "3    8   54  24.2188       86    3.730  0.7913   8.6874       3.7052   \n",
       "4    9   69  35.0927      101    5.646  1.4066  83.4821       6.7970   \n",
       "\n",
       "   Resistin    MCP.1  Classification  \n",
       "0    3.3200  191.720               1  \n",
       "1   11.7300   99.450               2  \n",
       "2    5.1400  313.730               1  \n",
       "3   10.3446  635.049               2  \n",
       "4   82.1000  263.499               1  "
      ]
     },
     "execution_count": 5,
     "metadata": {},
     "output_type": "execute_result"
    }
   ],
   "source": [
    "# importando el dataset preprocesado.\n",
    "data_set_elloa =pd.read_csv('train.csv', sep=',')\n",
    "data_set_elloa.head()"
   ]
  },
  {
   "cell_type": "code",
   "execution_count": 27,
   "metadata": {},
   "outputs": [],
   "source": [
    "grubbs.test(data_set_elloa['BMI'],alpha=0.05)"
   ]
  },
  {
   "cell_type": "code",
   "execution_count": 25,
   "metadata": {},
   "outputs": [
    {
     "data": {
      "text/plain": [
       "[]"
      ]
     },
     "execution_count": 25,
     "metadata": {},
     "output_type": "execute_result"
    }
   ],
   "source": [
    "#id\tAge\tBMI\tGlucose\tInsulin\tHOMA\tLeptin\tAdiponectin\tResistin\tMCP.1\tClassification\n",
    "grubbs.min_test_indices(data_set_elloa['MCP.1'],alpha=0.05) #retorna os indices dos valores discrepantes"
   ]
  },
  {
   "cell_type": "code",
   "execution_count": 24,
   "metadata": {},
   "outputs": [
    {
     "data": {
      "text/plain": [
       "[75, 88]"
      ]
     },
     "execution_count": 24,
     "metadata": {},
     "output_type": "execute_result"
    }
   ],
   "source": [
    "grubbs.max_test_indices(data_set_elloa['MCP.1'],alpha=0.05) #retorna os indices dos valores discrepantes"
   ]
  },
  {
   "cell_type": "code",
   "execution_count": null,
   "metadata": {
    "collapsed": true
   },
   "outputs": [],
   "source": [
    "grubbs.max_test_indices(data_set_elloa['MCP.1'],alpha=0.05) #retorna dos valores discrepantes\n",
    "grubbs.max_test_indices(data_set_elloa['Resistin'],alpha=0.05) #retorna dos valores discrepantes\n",
    "grubbs.max_test_indices(data_set_elloa['Adiponectin'],alpha=0.05) #retorna dos valores discrepantes\n",
    "grubbs.max_test_indices(data_set_elloa['Leptin'],alpha=0.05) #retorna dos valores discrepantes\n",
    "grubbs.max_test_indices(data_set_elloa['HOMA'],alpha=0.05) #retorna dos valores discrepantes\n",
    "grubbs.max_test_indices(data_set_elloa['Insulin'],alpha=0.05) #retorna dos valores discrepantes\n",
    "grubbs.max_test_indices(data_set_elloa['Glucose'],alpha=0.05) #retorna dos valores discrepantes"
   ]
  },
  {
   "cell_type": "code",
   "execution_count": 1,
   "metadata": {
    "collapsed": true
   },
   "outputs": [],
   "source": [
    "#deleta os valores discrepantes"
   ]
  },
  {
   "cell_type": "markdown",
   "metadata": {},
   "source": [
    "# descobre os principais atributos"
   ]
  },
  {
   "cell_type": "code",
   "execution_count": 17,
   "metadata": {
    "collapsed": true
   },
   "outputs": [],
   "source": [
    "X_train = data_set_elloa.drop(['id','Classification'], axis=1)\n",
    "Y_train = data_set_elloa['Classification']"
   ]
  },
  {
   "cell_type": "code",
   "execution_count": 18,
   "metadata": {
    "collapsed": true
   },
   "outputs": [],
   "source": [
    "modelo = ExtraTreesClassifier()\n",
    "era = RFE(modelo, 6)  # número de atributos a seleccionar\n",
    "era = era.fit(X_train, Y_train)"
   ]
  },
  {
   "cell_type": "code",
   "execution_count": 19,
   "metadata": {},
   "outputs": [
    {
     "data": {
      "text/plain": [
       "['Age', 'BMI', 'Glucose', 'Insulin', 'HOMA', 'Resistin']"
      ]
     },
     "execution_count": 19,
     "metadata": {},
     "output_type": "execute_result"
    }
   ],
   "source": [
    "columnas = list(X_train.columns.values)\n",
    "atrib = era.support_\n",
    "atributos = [columnas[i] for i in list(atrib.nonzero()[0])]\n",
    "atributos"
   ]
  },
  {
   "cell_type": "code",
   "execution_count": null,
   "metadata": {
    "collapsed": true
   },
   "outputs": [],
   "source": []
  },
  {
   "cell_type": "code",
   "execution_count": null,
   "metadata": {
    "collapsed": true
   },
   "outputs": [],
   "source": []
  }
 ],
 "metadata": {
  "kernelspec": {
   "display_name": "Python 3",
   "language": "python",
   "name": "python3"
  },
  "language_info": {
   "codemirror_mode": {
    "name": "ipython",
    "version": 3
   },
   "file_extension": ".py",
   "mimetype": "text/x-python",
   "name": "python",
   "nbconvert_exporter": "python",
   "pygments_lexer": "ipython3",
   "version": "3.6.3"
  }
 },
 "nbformat": 4,
 "nbformat_minor": 2
}
