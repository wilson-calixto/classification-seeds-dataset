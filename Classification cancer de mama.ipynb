{
 "cells": [
  {
   "cell_type": "markdown",
   "metadata": {},
   "source": [
    "# Classification Seeds Data Set\n",
    "\n",
    "Na avaliação será levado em conta:\n",
    "1. Corretude das tarefas solicitadas\n",
    "2. Qualidade e boas práticas de codificação\n",
    "3. Eficiência na manipulação dos dados\n",
    "\n",
    "O objetivo deste quarto projeto prático da disciplina Redes Neurais Artificias é conduzir um processo de Aprendizado de Máquina com tarefa de classificação multiclasse que utilize redes neurais artificiais do tipo multilayer perceptron para endereçar esta tarefa.\n",
    "\n",
    "Cada equipe deve produzir um Jupyter Notebook contendo boas práticas de programação que ilustrem os passos detalhados desta tarefa, com justificativas e comentários sempre que necessários.\n",
    "\n",
    "- Kid Mendes de Oliveira Neto - 1615310011\n",
    "- Wilson Calixto Cordovil Junior - 1515310026"
   ]
  },
  {
   "cell_type": "markdown",
   "metadata": {},
   "source": [
    "#### Importação das Bibliotecas"
   ]
  },
  {
   "cell_type": "code",
   "execution_count": 2,
   "metadata": {
    "collapsed": true
   },
   "outputs": [],
   "source": [
    "import warnings\n",
    "warnings.filterwarnings('ignore')\n",
    "import pandas as pd\n",
    "import matplotlib.pyplot as plt\n",
    "from sklearn.model_selection import GridSearchCV\n",
    "from sklearn.neural_network import MLPClassifier\n",
    "from math import sqrt\n",
    "%matplotlib inline"
   ]
  },
  {
   "cell_type": "markdown",
   "metadata": {},
   "source": [
    "#### Obtenha o seeds dataset do repositório da Universidade de California em Irvine"
   ]
  },
  {
   "cell_type": "code",
   "execution_count": 3,
   "metadata": {},
   "outputs": [
    {
     "data": {
      "text/html": [
       "<div>\n",
       "<style>\n",
       "    .dataframe thead tr:only-child th {\n",
       "        text-align: right;\n",
       "    }\n",
       "\n",
       "    .dataframe thead th {\n",
       "        text-align: left;\n",
       "    }\n",
       "\n",
       "    .dataframe tbody tr th {\n",
       "        vertical-align: top;\n",
       "    }\n",
       "</style>\n",
       "<table border=\"1\" class=\"dataframe\">\n",
       "  <thead>\n",
       "    <tr style=\"text-align: right;\">\n",
       "      <th></th>\n",
       "      <th>id</th>\n",
       "      <th>Age</th>\n",
       "      <th>BMI</th>\n",
       "      <th>Glucose</th>\n",
       "      <th>Insulin</th>\n",
       "      <th>HOMA</th>\n",
       "      <th>Leptin</th>\n",
       "      <th>Adiponectin</th>\n",
       "      <th>Resistin</th>\n",
       "      <th>MCP.1</th>\n",
       "      <th>Classification</th>\n",
       "    </tr>\n",
       "  </thead>\n",
       "  <tbody>\n",
       "    <tr>\n",
       "      <th>0</th>\n",
       "      <td>114</td>\n",
       "      <td>47</td>\n",
       "      <td>22.0300</td>\n",
       "      <td>84</td>\n",
       "      <td>2.869</td>\n",
       "      <td>0.5900</td>\n",
       "      <td>26.6500</td>\n",
       "      <td>38.0400</td>\n",
       "      <td>3.3200</td>\n",
       "      <td>191.720</td>\n",
       "      <td>1</td>\n",
       "    </tr>\n",
       "    <tr>\n",
       "      <th>1</th>\n",
       "      <td>104</td>\n",
       "      <td>75</td>\n",
       "      <td>30.4800</td>\n",
       "      <td>152</td>\n",
       "      <td>7.010</td>\n",
       "      <td>2.6283</td>\n",
       "      <td>50.5300</td>\n",
       "      <td>10.0600</td>\n",
       "      <td>11.7300</td>\n",
       "      <td>99.450</td>\n",
       "      <td>2</td>\n",
       "    </tr>\n",
       "    <tr>\n",
       "      <th>2</th>\n",
       "      <td>90</td>\n",
       "      <td>25</td>\n",
       "      <td>22.8600</td>\n",
       "      <td>82</td>\n",
       "      <td>4.090</td>\n",
       "      <td>0.8273</td>\n",
       "      <td>20.4500</td>\n",
       "      <td>23.6700</td>\n",
       "      <td>5.1400</td>\n",
       "      <td>313.730</td>\n",
       "      <td>1</td>\n",
       "    </tr>\n",
       "    <tr>\n",
       "      <th>3</th>\n",
       "      <td>8</td>\n",
       "      <td>54</td>\n",
       "      <td>24.2188</td>\n",
       "      <td>86</td>\n",
       "      <td>3.730</td>\n",
       "      <td>0.7913</td>\n",
       "      <td>8.6874</td>\n",
       "      <td>3.7052</td>\n",
       "      <td>10.3446</td>\n",
       "      <td>635.049</td>\n",
       "      <td>2</td>\n",
       "    </tr>\n",
       "    <tr>\n",
       "      <th>4</th>\n",
       "      <td>9</td>\n",
       "      <td>69</td>\n",
       "      <td>35.0927</td>\n",
       "      <td>101</td>\n",
       "      <td>5.646</td>\n",
       "      <td>1.4066</td>\n",
       "      <td>83.4821</td>\n",
       "      <td>6.7970</td>\n",
       "      <td>82.1000</td>\n",
       "      <td>263.499</td>\n",
       "      <td>1</td>\n",
       "    </tr>\n",
       "  </tbody>\n",
       "</table>\n",
       "</div>"
      ],
      "text/plain": [
       "    id  Age      BMI  Glucose  Insulin    HOMA   Leptin  Adiponectin  \\\n",
       "0  114   47  22.0300       84    2.869  0.5900  26.6500      38.0400   \n",
       "1  104   75  30.4800      152    7.010  2.6283  50.5300      10.0600   \n",
       "2   90   25  22.8600       82    4.090  0.8273  20.4500      23.6700   \n",
       "3    8   54  24.2188       86    3.730  0.7913   8.6874       3.7052   \n",
       "4    9   69  35.0927      101    5.646  1.4066  83.4821       6.7970   \n",
       "\n",
       "   Resistin    MCP.1  Classification  \n",
       "0    3.3200  191.720               1  \n",
       "1   11.7300   99.450               2  \n",
       "2    5.1400  313.730               1  \n",
       "3   10.3446  635.049               2  \n",
       "4   82.1000  263.499               1  "
      ]
     },
     "execution_count": 3,
     "metadata": {},
     "output_type": "execute_result"
    }
   ],
   "source": [
    "seeds_dataset = pd.read_csv('train.csv', sep=',')\n",
    "#seeds_dataset.columns = [\"area\", \"perimeter\", \"compactness\", \"length\", \"width\", \"asymmetry\", \"length groove\", \"wheat\"]\n",
    "seeds_dataset.head()"
   ]
  },
  {
   "cell_type": "markdown",
   "metadata": {},
   "source": [
    "#### Efetue a partição do dataset "
   ]
  },
  {
   "cell_type": "code",
   "execution_count": 13,
   "metadata": {
    "collapsed": true
   },
   "outputs": [],
   "source": [
    "X_train = seeds_dataset.drop(['id','Classification','Leptin','Adiponectin','MCP.1'], axis=1) \n",
    "#X_train = seeds_dataset.drop(['id','Classification'], axis=1) \n",
    "#['Age', 'BMI', 'Glucose', 'Insulin', 'HOMA', 'Resistin']\n",
    "Y_train = seeds_dataset['Classification']"
   ]
  },
  {
   "cell_type": "markdown",
   "metadata": {},
   "source": [
    "#### Utilizar a regra da pirâmide geométrica para identificar o número de neurônios nas camadas ocultas"
   ]
  },
  {
   "cell_type": "code",
   "execution_count": 5,
   "metadata": {
    "collapsed": true
   },
   "outputs": [],
   "source": [
    "def geometric_pyramid(alpha, ni, no):\n",
    "    return int(alpha * sqrt(ni*no))"
   ]
  },
  {
   "cell_type": "markdown",
   "metadata": {},
   "source": [
    "#### Preparando os parâmetros o qual deve variar a função de ativação e o número de neurônios nas camadas ocultas."
   ]
  },
  {
   "cell_type": "code",
   "execution_count": 6,
   "metadata": {
    "collapsed": true
   },
   "outputs": [],
   "source": [
    "#Quantidade de neurônios em cada camada oculta. Ex: (13,), (2,), (6,7), (9,)\n",
    "hidden_layer_sizes = [\n",
    "    (1), \n",
    "    (1,1),\n",
    "    (2) \n",
    "    \n",
    "]\n",
    "\n",
    "#Dicionário que servirá para a variação dos parâmetros na Rede Neural\n",
    "param_grid = {\n",
    "    'activation': ['identity', 'logistic', 'tanh', 'relu'],\n",
    "    'hidden_layer_sizes': hidden_layer_sizes,\n",
    "    'learning_rate_init': [0.01, 0.001, 0.0005, 0.0001],\n",
    "}"
   ]
  },
  {
   "cell_type": "markdown",
   "metadata": {},
   "source": [
    "#### Busca em grade utilizando o solver lbfgs"
   ]
  },
  {
   "cell_type": "code",
   "execution_count": 15,
   "metadata": {},
   "outputs": [
    {
     "name": "stdout",
     "output_type": "stream",
     "text": [
      "Função de ativação: identity\n",
      "Quantidade de neurônios nas camadas ocultas: (1, 1)\n",
      "Taxa de Aprendizagem: 0.0005\n",
      "Melhor acurácia: 0.717391304347826\n"
     ]
    }
   ],
   "source": [
    "mlp = MLPClassifier(solver='lbfgs')\n",
    "#grid_lbfgs = GridSearchCV(mlp, param_grid, cv=3, scoring='accuracy')\n",
    "grid_lbfgs = GridSearchCV(mlp, param_grid, cv=3, scoring='f1')\n",
    "grid_lbfgs.fit(X_train, Y_train)\n",
    "\n",
    "print(\"Função de ativação: {}\\nQuantidade de neurônios nas camadas ocultas: {}\\nTaxa de Aprendizagem: {}\\nMelhor acurácia: {}\"\n",
    "      .format(grid_lbfgs.best_params_['activation'], grid_lbfgs.best_params_['hidden_layer_sizes'],\n",
    "              grid_lbfgs.best_params_['learning_rate_init'], grid_lbfgs.best_score_))"
   ]
  },
  {
   "cell_type": "markdown",
   "metadata": {},
   "source": [
    "#### Busca em grade utilizando o solver sgd"
   ]
  },
  {
   "cell_type": "code",
   "execution_count": 8,
   "metadata": {},
   "outputs": [
    {
     "name": "stdout",
     "output_type": "stream",
     "text": [
      "Função de ativação: logistic\n",
      "Quantidade de neurônios nas camadas ocultas: 1\n",
      "Taxa de Aprendizagem: 0.0001\n",
      "Melhor acurácia: 0.6370364140946935\n"
     ]
    }
   ],
   "source": [
    "mlp = MLPClassifier(solver='sgd')\n",
    "grid_sgd = GridSearchCV(mlp, param_grid, cv=3, scoring='f1')\n",
    "grid_sgd.fit(X_train, Y_train)\n",
    "\n",
    "print(\"Função de ativação: {}\\nQuantidade de neurônios nas camadas ocultas: {}\\nTaxa de Aprendizagem: {}\\nMelhor acurácia: {}\"\n",
    "      .format(grid_sgd.best_params_['activation'], grid_sgd.best_params_['hidden_layer_sizes'],\n",
    "              grid_sgd.best_params_['learning_rate_init'], grid_sgd.best_score_))"
   ]
  },
  {
   "cell_type": "markdown",
   "metadata": {},
   "source": [
    "#### Busca em grade utilizando o solver adam"
   ]
  },
  {
   "cell_type": "code",
   "execution_count": 9,
   "metadata": {},
   "outputs": [
    {
     "name": "stdout",
     "output_type": "stream",
     "text": [
      "Função de ativação: tanh\n",
      "Quantidade de neurônios nas camadas ocultas: (1, 1)\n",
      "Taxa de Aprendizagem: 0.001\n",
      "Melhor acurácia: 0.6522200639549074\n"
     ]
    }
   ],
   "source": [
    "mlp = MLPClassifier(solver='adam')\n",
    "grid_adam = GridSearchCV(mlp, param_grid, cv=3, scoring='f1')\n",
    "grid_adam.fit(X_train, Y_train)\n",
    "\n",
    "print(\"Função de ativação: {}\\nQuantidade de neurônios nas camadas ocultas: {}\\nTaxa de Aprendizagem: {}\\nMelhor acurácia: {}\"\n",
    "      .format(grid_adam.best_params_['activation'], grid_adam.best_params_['hidden_layer_sizes'],\n",
    "              grid_adam.best_params_['learning_rate_init'], grid_adam.best_score_))"
   ]
  }
 ],
 "metadata": {
  "kernelspec": {
   "display_name": "Python 3",
   "language": "python",
   "name": "python3"
  },
  "language_info": {
   "codemirror_mode": {
    "name": "ipython",
    "version": 3
   },
   "file_extension": ".py",
   "mimetype": "text/x-python",
   "name": "python",
   "nbconvert_exporter": "python",
   "pygments_lexer": "ipython3",
   "version": "3.6.3"
  }
 },
 "nbformat": 4,
 "nbformat_minor": 2
}
